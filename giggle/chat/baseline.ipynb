{
 "cells": [
  {
   "cell_type": "code",
   "execution_count": 1,
   "metadata": {},
   "outputs": [],
   "source": [
    "import os\n",
    "from dotenv import load_dotenv\n",
    "from langchain_text_splitters import RecursiveCharacterTextSplitter\n",
    "from langchain.document_loaders import PyPDFLoader\n",
    "from langchain_community.document_loaders import WebBaseLoader\n",
    "from langchain_community.vectorstores import FAISS\n",
    "from langchain_core.output_parsers import StrOutputParser\n",
    "from langchain_core.prompts import PromptTemplate\n",
    "from langchain_openai import ChatOpenAI, OpenAIEmbeddings\n",
    "from langchain_community.chat_message_histories import ChatMessageHistory\n",
    "from langchain_core.runnables.history import RunnableWithMessageHistory\n",
    "from operator import itemgetter\n",
    "\n",
    "# 환경 변수 로드\n",
    "load_dotenv()\n",
    "OPENAI_API_KEY = os.getenv(\"OPENAI_API_KEY\")\n",
    "\n",
    "# 단계 1: 문서 로드(Load Documents)\n",
    "\n",
    "# PDF 문서 로드\n",
    "pdf_loader = PyPDFLoader(\"./data/체류민원.pdf\")\n",
    "pdf_docs = pdf_loader.load()\n",
    "\n",
    "# URL 문서 로드\n",
    "url_file_path = \"./data/urls.txt\"\n",
    "with open(url_file_path, \"r\") as file:\n",
    "    urls = file.read().splitlines()\n",
    "\n",
    "url_loaders = [WebBaseLoader(url) for url in urls]\n",
    "url_docs = []\n",
    "for loader in url_loaders:\n",
    "    url_docs.extend(loader.load())\n",
    "\n",
    "# PDF 문서와 URL 문서를 합침\n",
    "docs = pdf_docs + url_docs\n",
    "\n",
    "# 단계 2: 문서 분할(Split Documents)\n",
    "text_splitter = RecursiveCharacterTextSplitter(chunk_size=1000, chunk_overlap=50)\n",
    "split_documents = text_splitter.split_documents(docs)\n",
    "\n",
    "# 단계 3: 임베딩(Embedding) 생성\n",
    "embeddings = OpenAIEmbeddings()\n",
    "\n",
    "# 단계 4: DB 생성(Create DB) 및 저장\n",
    "vectorstore = FAISS.from_documents(documents=split_documents, embedding=embeddings)\n",
    "vector_store_file = \"./data/faiss_index\"\n",
    "vectorstore.save_local(vector_store_file)\n",
    "\n",
    "# 단계 5: 검색기(Retriever) 생성\n",
    "retriever = vectorstore.as_retriever()\n",
    "\n",
    "# 단계 6: 프롬프트 생성(Create Prompt)\n",
    "prompt = PromptTemplate.from_template(\n",
    "    \"\"\"You are an assistant for question-answering tasks. \n",
    "    Use the following pieces of retrieved context to answer the question. \n",
    "    If you don't know the answer, just say that you don't know. \n",
    "    Answer in Korean.\n",
    "\n",
    "#Previous Chat History:\n",
    "{chat_history}\n",
    "\n",
    "#Question: \n",
    "{question} \n",
    "\n",
    "#Context: \n",
    "{context} \n",
    "\n",
    "#Answer:\"\"\"\n",
    ")\n",
    "\n",
    "# 단계 7: 언어모델(LLM) 생성\n",
    "llm = ChatOpenAI(model_name=\"gpt-3.5-turbo-0125\", temperature=0)\n",
    "\n",
    "# 단계 8: 체인(Chain) 생성\n",
    "chain = (\n",
    "    {\n",
    "        \"context\": itemgetter(\"question\") | retriever,\n",
    "        \"question\": itemgetter(\"question\"),\n",
    "        \"chat_history\": itemgetter(\"chat_history\"),\n",
    "    }\n",
    "    | prompt\n",
    "    | llm\n",
    "    | StrOutputParser()\n",
    ")\n",
    "\n",
    "\n",
    "# 세션 기록을 저장할 딕셔너리\n",
    "store = {}\n",
    "\n",
    "# 세션 ID를 기반으로 세션 기록을 가져오는 함수\n",
    "def get_session_history(session_id):\n",
    "    if session_id not in store:\n",
    "        store[session_id] = ChatMessageHistory()\n",
    "    return store[session_id]\n",
    "\n",
    "# 대화를 기록하는 RAG 체인 생성\n",
    "rag_with_history = RunnableWithMessageHistory(\n",
    "    chain,\n",
    "    get_session_history,  # 세션 기록을 가져오는 함수\n",
    "    input_messages_key=\"question\",  # 사용자의 질문이 템플릿 변수에 들어갈 key\n",
    "    history_messages_key=\"chat_history\",  # 기록 메시지의 키\n",
    ")"
   ]
  },
  {
   "cell_type": "code",
   "execution_count": 2,
   "metadata": {},
   "outputs": [
    {
     "name": "stdout",
     "output_type": "stream",
     "text": [
      "유학생이 아르바이트를 하기 위해서는 체류자격 외 활동허가를 받아야 합니다. 학부과정은 주당 20시간, 석박사과정 및 논문준비 중인 경우 주당 30시간까지 가능하며, 공휴일 및 방학 중에는 무제한으로 허용됩니다.\n"
     ]
    }
   ],
   "source": [
    "# 첫 번째 질문 실행\n",
    "first_question = rag_with_history.invoke(\n",
    "    {\"question\": \"유학생이 체류 기간 동안 아르바이트를 하기 위해 어떤 절차를 따라야 해?\"},\n",
    "    config={\"configurable\": {\"session_id\": \"session_1\"}},\n",
    ")\n",
    "\n",
    "print(first_question)"
   ]
  },
  {
   "cell_type": "code",
   "execution_count": 8,
   "metadata": {},
   "outputs": [
    {
     "name": "stdout",
     "output_type": "stream",
     "text": [
      "학사 1~2학년의 경우에는 TOPIK 3급, 사회통합프로그램 3단계 이상 이수 또는 사전평가 61점 이상, 세종학당 중급1 이상 이수 수준이 필요합니다.\n"
     ]
    }
   ],
   "source": [
    "# 이어진 질문 실행\n",
    "follow_up_question = rag_with_history.invoke(\n",
    "    {\"question\": \"나는 지금 대학교 2학년인데, 충족해야할 기준 한국어 성적이 어느정도 돼?\"},\n",
    "    config={\"configurable\": {\"session_id\": \"session_1\"}},\n",
    ")\n",
    "print(follow_up_question)"
   ]
  },
  {
   "cell_type": "code",
   "execution_count": 9,
   "metadata": {},
   "outputs": [
    {
     "name": "stdout",
     "output_type": "stream",
     "text": [
      "3학년으로 올라가면, 한국어 성적 기준은 TOPIK 4급, 사회통합프로그램 4단계 이상 이수 또는 사전평가 81점 이상, 세종학당 중급2 이상 이수 수준이 필요합니다.\n"
     ]
    }
   ],
   "source": [
    "# 이어진 질문 실행\n",
    "follow_up_question = rag_with_history.invoke(\n",
    "    {\"question\": \"나는 지금 대학교 3학년으로 올라가면, 충족해야할 기준 한국어 성적이 바뀌어?\"},\n",
    "    config={\"configurable\": {\"session_id\": \"session_1\"}},\n",
    ")\n",
    "print(follow_up_question)"
   ]
  },
  {
   "cell_type": "code",
   "execution_count": 10,
   "metadata": {},
   "outputs": [
    {
     "name": "stdout",
     "output_type": "stream",
     "text": [
      "해당 정보는 2024년 6월 15일 기준으로 작성된 것이며, 법적 효력을 갖는 유권해석의 근거가 되지 않습니다. 더 자세한 정보를 원하시면 해당 링크를 참고하시기 바랍니다. (https://www.easylaw.go.kr/CSP/CnpClsMain.laf?popMenu=ov&csmSeq=508&ccfNo=3&cciNo=7&cnpClsNo=1&menuType=cnpcls&search_put=%EC%9C%A0%ED%95%99%EC%83%9D)\n"
     ]
    }
   ],
   "source": [
    "# 이어진 질문 실행\n",
    "follow_up_question = rag_with_history.invoke(\n",
    "    {\"question\": \"더 자세히 말해. 관련된 정보가 쓰여있는 웹페이지가 있어?\"},\n",
    "    config={\"configurable\": {\"session_id\": \"session_1\"}},\n",
    ")\n",
    "print(follow_up_question)"
   ]
  },
  {
   "cell_type": "code",
   "execution_count": 3,
   "metadata": {},
   "outputs": [
    {
     "name": "stdout",
     "output_type": "stream",
     "text": [
      "일정 수준의 한국어 능력은 TOPIK 2급, 사회통합프로그램 2단계 이상 이수 또는 사전평가 41점 이상, 세종학당 중급1 이상 이수 수준입니다.\n"
     ]
    }
   ],
   "source": [
    "# 이어진 질문 실행\n",
    "follow_up_question = rag_with_history.invoke(\n",
    "    {\"question\": \"일정 수준의 한국어 능력이 어느 정도야?\"},\n",
    "    config={\"configurable\": {\"session_id\": \"session_1\"}},\n",
    ")\n",
    "print(follow_up_question)"
   ]
  },
  {
   "cell_type": "code",
   "execution_count": 4,
   "metadata": {},
   "outputs": [
    {
     "name": "stdout",
     "output_type": "stream",
     "text": [
      "해당 정보는 2024년 6월 15일 기준으로 작성된 것이며, 법적 효력을 갖는 유권해석의 근거가 되지 않습니다. 더 자세한 정보를 원하시면 해당 링크를 참고하시기 바랍니다. (https://www.easylaw.go.kr/CSP/CnpClsMain.laf?popMenu=ov&csmSeq=508&ccfNo=3&cciNo=7&cnpClsNo=1&menuType=cnpcls&search_put=%EC%9C%A0%ED%95%99%EC%83%9D)\n"
     ]
    }
   ],
   "source": [
    "# 이어진 질문 실행\n",
    "follow_up_question = rag_with_history.invoke(\n",
    "    {\"question\": \"더 자세히 말해. 관련된 정보가 쓰여있는 웹페이지가 있어?\"},\n",
    "    config={\"configurable\": {\"session_id\": \"session_1\"}},\n",
    ")\n",
    "print(follow_up_question)"
   ]
  },
  {
   "cell_type": "code",
   "execution_count": 11,
   "metadata": {},
   "outputs": [
    {
     "name": "stdout",
     "output_type": "stream",
     "text": [
      "Chat History:\n",
      "content='유학생이 체류 기간 동안 아르바이트를 하기 위해 어떤 절차를 따라야 해?'\n",
      "content='유학생이 아르바이트를 하기 위해서는 체류자격 외 활동허가를 받아야 합니다. 학부과정은 주당 20시간, 석박사과정 및 논문준비 중인 경우 주당 30시간까지 가능하며, 공휴일 및 방학 중에는 무제한으로 허용됩니다.'\n",
      "content='일정 수준의 한국어 능력이 어느 정도야?'\n",
      "content='일정 수준의 한국어 능력은 TOPIK 2급, 사회통합프로그램 2단계 이상 이수 또는 사전평가 41점 이상, 세종학당 중급1 이상 이수 수준입니다.'\n",
      "content='더 자세히 말해. 관련된 정보가 쓰여있는 웹페이지가 있어?'\n",
      "content='해당 정보는 2024년 6월 15일 기준으로 작성된 것이며, 법적 효력을 갖는 유권해석의 근거가 되지 않습니다. 더 자세한 정보를 원하시면 해당 링크를 참고하시기 바랍니다. (https://www.easylaw.go.kr/CSP/CnpClsMain.laf?popMenu=ov&csmSeq=508&ccfNo=3&cciNo=7&cnpClsNo=1&menuType=cnpcls&search_put=%EC%9C%A0%ED%95%99%EC%83%9D)'\n",
      "content='일정 수준의 한국어 능력은 어느 정도 필요해?'\n",
      "content='TOPIK 2급, 사회통합프로그램 2단계 이상 이수 또는 사전평가 41점 이상, 세종학당 중급1 이상 이수 수준이 필요합니다.'\n",
      "content='나는 지금 대학교 2학년인데, 충족해야할 기준 한국어 성적이 어느정도 돼?'\n",
      "content='학사 1~2학년의 경우에는 TOPIK 3급, 사회통합프로그램 3단계 이상 이수 또는 사전평가 61점 이상, 세종학당 중급1 이상 이수 수준이 필요합니다.'\n",
      "content='나는 지금 대학교 3학년으로 올라가면, 충족해야할 기준 한국어 성적이 바뀌어?'\n",
      "content='3학년으로 올라가면, 한국어 성적 기준은 TOPIK 4급, 사회통합프로그램 4단계 이상 이수 또는 사전평가 81점 이상, 세종학당 중급2 이상 이수 수준이 필요합니다.'\n",
      "content='더 자세히 말해. 관련된 정보가 쓰여있는 웹페이지가 있어?'\n",
      "content='해당 정보는 2024년 6월 15일 기준으로 작성된 것이며, 법적 효력을 갖는 유권해석의 근거가 되지 않습니다. 더 자세한 정보를 원하시면 해당 링크를 참고하시기 바랍니다. (https://www.easylaw.go.kr/CSP/CnpClsMain.laf?popMenu=ov&csmSeq=508&ccfNo=3&cciNo=7&cnpClsNo=1&menuType=cnpcls&search_put=%EC%9C%A0%ED%95%99%EC%83%9D)'\n"
     ]
    }
   ],
   "source": [
    "# 대화 내역 확인\n",
    "session_history = get_session_history(\"session_1\")\n",
    "print(\"Chat History:\")\n",
    "for message in session_history.messages:\n",
    "    print(message)"
   ]
  }
 ],
 "metadata": {
  "kernelspec": {
   "display_name": "venv",
   "language": "python",
   "name": "python3"
  },
  "language_info": {
   "codemirror_mode": {
    "name": "ipython",
    "version": 3
   },
   "file_extension": ".py",
   "mimetype": "text/x-python",
   "name": "python",
   "nbconvert_exporter": "python",
   "pygments_lexer": "ipython3",
   "version": "3.11.5"
  }
 },
 "nbformat": 4,
 "nbformat_minor": 2
}
